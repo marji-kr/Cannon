import sys
import os
import csv
import cv2
import numpy as np
from datetime import datetime
from PIL import Image
from PyQt5.QtWidgets import (
    QApplication, QWidget, QFileDialog, QLabel, QPushButton,
    QListWidget, QProgressBar, QTableWidget, QTableWidgetItem,
    QGroupBox, QVBoxLayout, QHBoxLayout, QSizePolicy
)
from PyQt5.QtGui import QPixmap
from PyQt5.QtCore import Qt

def cv_imread_unicode(path):
    try:
        img = Image.open(path)
        return cv2.cvtColor(np.array(img), cv2.COLOR_RGB2BGR)
    except Exception as e:
        print(f"이미지 열기 실패: {e}")
        return None

class DetectionUI(QWidget):
    def __init__(self):
        super().__init__()
        self.setWindowTitle("Target Detection UI")
        self.setGeometry(100, 100, 1200, 700)

        self.target_images = []
        self.cycle_images = []
        self.target_size = None
        self.current_index = 0

        # ✅ 고정 유사도 기준
        self.good_match_threshold = 20
        self.distance_threshold = 45

        main_layout = QHBoxLayout(self)

        # Left UI
        left_box = QVBoxLayout()
        tg_group = QGroupBox("Select 4 Target Images")
        tg_layout = QVBoxLayout()
        self.tg_list = QListWidget()
        btn_tg = QPushButton("Load Target Images")
        btn_tg.clicked.connect(self.load_targets)
        tg_layout.addWidget(self.tg_list)
        tg_layout.addWidget(btn_tg)
        tg_group.setLayout(tg_layout)

        cyc_group = QGroupBox("Select Cycle Images (up to 100)")
        cyc_layout = QVBoxLayout()
        self.cyc_list = QListWidget()
        btn_cyc = QPushButton("Load Cycle Images")
        btn_cyc.clicked.connect(self.load_cycle)
        cyc_layout.addWidget(self.cyc_list)
        cyc_layout.addWidget(btn_cyc)
        cyc_group.setLayout(cyc_layout)

        left_box.addWidget(tg_group)
        left_box.addWidget(cyc_group)
        main_layout.addLayout(left_box, 1)

        # Center UI
        center_box = QVBoxLayout()
        img_nav = QHBoxLayout()
        self.lbl_prev = QPushButton("◀")
        self.lbl_prev.clicked.connect(self.show_prev)
        self.lbl_prev.setEnabled(False)
        self.lbl_image = QLabel("No Image")
        self.lbl_image.setAlignment(Qt.AlignCenter)
        self.lbl_image.setSizePolicy(QSizePolicy.Expanding, QSizePolicy.Expanding)
        self.lbl_next = QPushButton("▶")
        self.lbl_next.clicked.connect(self.show_next)
        self.lbl_next.setEnabled(False)
        img_nav.addWidget(self.lbl_prev)
        img_nav.addWidget(self.lbl_image, 1)
        img_nav.addWidget(self.lbl_next)

        self.lbl_sim = QLabel("Best Match / Avg Distance: N/A")
        self.lbl_sim.setAlignment(Qt.AlignCenter)
        self.progress = QProgressBar()
        self.progress.setValue(0)

        btn_save = QPushButton("Save to CSV")
        btn_save.clicked.connect(self.save_to_csv)

        center_box.addLayout(img_nav, 5)
        center_box.addWidget(self.lbl_sim)
        center_box.addWidget(self.progress)
        center_box.addWidget(btn_save)
        main_layout.addLayout(center_box, 2)

        # Right UI
        right_box = QVBoxLayout()
        record_header = QHBoxLayout()
        lbl_records = QLabel("Detection Records")
        lbl_records.setAlignment(Qt.AlignCenter)
        btn_reset = QPushButton("초기화")
        btn_reset.clicked.connect(self.reset_results)
        record_header.addWidget(lbl_records)
        record_header.addStretch()
        record_header.addWidget(btn_reset)

        self.table = QTableWidget(0, 3)
        self.table.setHorizontalHeaderLabels(["Time", "Image Name", "Result"])
        self.table.horizontalHeader().setStretchLastSection(True)

        right_box.addLayout(record_header)
        right_box.addWidget(self.table)
        main_layout.addLayout(right_box, 2)

    def load_targets(self):
        files, _ = QFileDialog.getOpenFileNames(
            self, "Select 4 Target Images", "", "Images (*.png *.jpg *.bmp)"
        )
        if files:
            self.target_images = files[:4]
            self.tg_list.clear()
            for f in self.target_images:
                self.tg_list.addItem(os.path.basename(f))
            ref_img = cv_imread_unicode(self.target_images[0])
            if ref_img is not None:
                self.target_size = (ref_img.shape[1], ref_img.shape[0])  # width, height

    def load_cycle(self):
        files, _ = QFileDialog.getOpenFileNames(
            self, "Select Cycle Images", "", "Images (*.png *.jpg *.bmp)"
        )
        if files:
            self.cycle_images = files[:100]
            self.cyc_list.clear()
            for f in self.cycle_images:
                self.cyc_list.addItem(os.path.basename(f))
            self.current_index = 0
            self.update_display_controls()
            self.show_image()

    def update_display_controls(self):
        has = len(self.cycle_images) > 0
        self.lbl_prev.setEnabled(has)
        self.lbl_next.setEnabled(has)

    def preprocess_image(self, img):
        img_resized = cv2.resize(img, self.target_size) if self.target_size else img
        gray = cv2.cvtColor(img_resized, cv2.COLOR_BGR2GRAY)
        clahe = cv2.createCLAHE(clipLimit=2.0, tileGridSize=(8, 8))
        enhanced = clahe.apply(gray)
        blurred = cv2.GaussianBlur(enhanced, (5, 5), 0)
        return blurred

    def calculate_similarity(self, current_img_path):
        img2 = cv_imread_unicode(current_img_path)
        if img2 is None:
            return 0, float('inf'), "Invalid"
        img2 = self.preprocess_image(img2)
        orb = cv2.ORB_create()
        kp2, des2 = orb.detectAndCompute(img2, None)
        if des2 is None:
            return 0, float('inf'), "Invalid"

        bf = cv2.BFMatcher(cv2.NORM_HAMMING, crossCheck=False)
        best_result = ("Not Detected", 0, float('inf'))

        for path in self.target_images:
            img1 = cv_imread_unicode(path)
            if img1 is None:
                continue
            img1 = self.preprocess_image(img1)
            kp1, des1 = orb.detectAndCompute(img1, None)
            if des1 is None:
                continue

            matches = bf.knnMatch(des1, des2, k=2)
            good_matches = [m for m, n in matches if m.distance < 0.75 * n.distance]
            distances = [m.distance for m in good_matches]
            avg_dist = np.mean(distances) if distances else float('inf')
            count = len(good_matches)

            detected = count >= self.good_match_threshold and avg_dist < self.distance_threshold
            status = "Detected" if detected else "Not Detected"

            if detected and (count > best_result[1] or avg_dist < best_result[2]):
                best_result = (status, count, avg_dist)

        return best_result[1], round(best_result[2], 2), best_result[0]

    def show_image(self):
        if not self.cycle_images:
            return
        path = self.cycle_images[self.current_index]
        pix = QPixmap(path).scaled(400, 300, Qt.KeepAspectRatio)
        self.lbl_image.setPixmap(pix)

        matches, avg_distance, result = self.calculate_similarity(path)
        self.lbl_sim.setText(f"Best Match: {matches} / Avg Distance: {avg_distance} → {result}")

        total = len(self.cycle_images)
        self.progress.setValue(int((self.current_index + 1) / total * 100))

        now = datetime.now().strftime("%H:%M:%S")
        row = self.table.rowCount()
        self.table.insertRow(row)
        self.table.setItem(row, 0, QTableWidgetItem(now))
        self.table.setItem(row, 1, QTableWidgetItem(os.path.basename(path)))
        self.table.setItem(row, 2, QTableWidgetItem(result))

    def show_next(self):
        if self.current_index < len(self.cycle_images) - 1:
            self.current_index += 1
            self.show_image()

    def show_prev(self):
        if self.current_index > 0:
            self.current_index -= 1
            self.show_image()

    def reset_results(self):
        self.table.setRowCount(0)
        self.progress.setValue(0)
        self.lbl_sim.setText("Best Match / Avg Distance: N/A")
        self.lbl_image.setPixmap(QPixmap())
        self.lbl_image.setText("No Image")
        self.current_index = 0
        self.lbl_prev.setEnabled(False)
        self.lbl_next.setEnabled(False)

    def save_to_csv(self):
        path, _ = QFileDialog.getSaveFileName(self, "Save CSV", "", "CSV files (*.csv)")
        if path:
            with open(path, "w", newline='') as file:
                writer = csv.writer(file)
                writer.writerow(["Time", "Image Name", "Result"])
                for row in range(self.table.rowCount()):
                    row_data = [self.table.item(row, col).text() for col in range(3)]
                    writer.writerow(row_data)

if __name__ == "__main__":
    app = QApplication(sys.argv)
    window = DetectionUI()
    window.show()
    sys.exit(app.exec_())
